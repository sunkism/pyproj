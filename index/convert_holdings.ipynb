{
 "cells": [
  {
   "cell_type": "code",
   "execution_count": 66,
   "metadata": {},
   "outputs": [
    {
     "output_type": "stream",
     "name": "stdout",
     "text": "** FILE CREATED : convert_by_isu_지수산출기초데이터.xlsx\n** FILE CREATED : convert_by_val_지수산출기초데이터.xlsx\nconverting 작업을 완료하였습니다.\n"
    }
   ],
   "source": [
    "import sys\n",
    "import pandas as pd\n",
    "import numpy as np\n",
    "\n",
    "# INPUT FILE\n",
    "scen_file = 'esg_시나리오.xlsx'\n",
    "in_file = '지수산출기초데이터.xlsx'\n",
    "out_file_1 = 'convert_by_isu_'+ in_file   # xlsx로만 저장되네...\n",
    "out_file_2 = 'convert_by_val_'+ in_file   # xlsx로만 저장되네...\n",
    "\n",
    "\n",
    "df = pd.read_excel(scen_file,dtype='unicode')\n",
    "df = df['정기개편일']\n",
    "df.drop_duplicates(inplace=True)\n",
    "phase = df.values.tolist()\n",
    "\n",
    "# input file 을 읽는다\n",
    "#df = pd.read_csv(in_file, sep=',',dtype='unicode', parse_dates=True)\n",
    "df = pd.read_excel(in_file, sep=',',dtype='unicode')\n",
    "\n",
    "#숫자로 봐야하는 컬럼의 dtype을 변경한다\n",
    "cols=df.columns.drop(['DATE','CODE'])\n",
    "df[cols] = df[cols].apply(pd.to_numeric, errors='coerce')\n",
    "\n",
    "# 필요없는 컬럼 지우기\n",
    "#df.drop([df.columns[1],df.columns[2],df.columns[4],df.columns[7],df.columns[10],df.columns[11]],axis=1,inplace=True)\n",
    "\n",
    "#\n",
    "df.set_index('DATE', inplace=True)\n",
    "df.sort_index(axis = 0, level=0, inplace=True, ascending=True)\n",
    "\n",
    "# START - 1. 종목별 세부 정보 만들기. MULTI INDEX level 0 => 종목, level 1 => 세부정보\n",
    "# 각 개편일별로 끊어서 list에 추가함\n",
    "df_list = []\n",
    "for i in range(len(phase)) :\n",
    "    if i == len(phase) -1 :\n",
    "        df2 = df[phase[i]:]\n",
    "        \n",
    "    else:\n",
    "        df2 = df[phase[i]:phase[i+1]]\n",
    "        df2 = df2.drop(phase[i+1])\n",
    "    # TABLE RESHAPE - 종목코드 열로 옮기는 작업\n",
    "    #  - 키 추가\n",
    "    df2.set_index(['CODE'], append=True, inplace=True) #index 추가시 append param 사용함\n",
    "    # - 열로 옮김\n",
    "    df2 = df2.unstack(level=1)\n",
    "    # - 종목코드를 열 index level 0로\n",
    "    df2.columns = df2.columns.swaplevel(0,1)\n",
    "    # - 열 index level 1(종목별 항목들)을 sorting\n",
    "    df2.sort_index(axis = 1, level=0, inplace=True)\n",
    "    df2.apply(pd.to_numeric, errors='ignore')\n",
    "    df_list.append(df2)\n",
    "\n",
    "# 엑셀파일저장\n",
    "with pd.ExcelWriter(out_file_1) as writer:\n",
    "    for item in df_list :\n",
    "        item.to_excel(writer, sheet_name=item.index[0])\n",
    "\n",
    "print ('** FILE CREATED : ' + out_file_1)\n",
    "# END - 1. 종목별 세부 정보 만들기. MULTI INDEX level 0 => 종목, level 1 => 세부정보\n",
    "\n",
    "# START - 2. 세부정보별 종목정보 만들기. MULTI INDEX level 0 => 세부정보, level 1 => 종목\n",
    "# 각 개편일별로 끊어서 list에 추가함\n",
    "df_list = []\n",
    "for i in range(len(phase)) :\n",
    "    if i == len(phase) -1 :\n",
    "        df2 = df[phase[i]:]\n",
    "        \n",
    "    else:\n",
    "        df2 = df[phase[i]:phase[i+1]]\n",
    "        df2 = df2.drop(phase[i+1])\n",
    "    # TABLE RESHAPE - 종목코드 열로 옮기는 작업\n",
    "    #  - 키 추가\n",
    "    df2.set_index(['CODE'], append=True, inplace=True) #index 추가시 append param 사용함\n",
    "    # - 열로 옮김\n",
    "    df2 = df2.unstack(level=1)\n",
    "    df2['BACE PRICE'].apply(pd.to_numeric, errors='ignore')\n",
    "    df_list.append(df2)\n",
    "# 엑셀파일저장\n",
    "with pd.ExcelWriter(out_file_2) as writer:\n",
    "    for item in df_list :\n",
    "        item.to_excel(writer, sheet_name=item.index[0])\n",
    "        \n",
    "print ('** FILE CREATED : ' + out_file_2)\n",
    "# END - 2. 세부정보별 종목정보 만들기. MULTI INDEX level 0 => 세부정보, level 1 => 종목\n",
    "\n",
    "#완료\n",
    "print ('converting 작업을 완료하였습니다.')\n",
    "# 종목코드 열로 옮기는 작업\n",
    "#  - 키 추가\n",
    "#df2.set_index(['ISU_SRT_CD'], append=True, inplace=True) #index 추가시 append param 사용함\n",
    "# - 열로 옮김\n",
    "#df2 = df2.unstack(level=1)\n",
    "# - 종목코드를 열 index level 0로\n",
    "#df2.columns = df2.columns.swaplevel(0,1)\n",
    "# - 열 index level 1(종목별 항목들)을 sorting\n",
    "#df2.sort_index(axis = 1, level=0, inplace=True)\n",
    "\n",
    "# index 세팅\n",
    "#df.set_index(['TRADE_DATE','ISU_SRT_CD'], inplace=True)\n",
    "\n",
    "# isu_srt_cd (level = 1)을 열로 보내기\n",
    "#df2 = df.unstack(level=1)\n",
    "\n",
    "# isu_srt_cd 를 column index level 0로 바꾸기\n",
    "# 종목의 세부 정보는 level 1로\n",
    "#df2.columns = df2.columns.swaplevel(0,1)\n",
    "\n",
    "# 소팅하기\n",
    "#df2.sort_index(axis = 1, level=0, inplace=True)\n",
    "\n",
    "# 결과를 엑셀로 보내기\n",
    "#df2.to_excel(out_file,sheet_name='test1')\n"
   ]
  },
  {
   "cell_type": "code",
   "execution_count": 11,
   "metadata": {},
   "outputs": [
    {
     "output_type": "execute_result",
     "data": {
      "text/plain": "Index(['BAS_PRICE', 'CLOSE_PRICE', 'IDX_LISTED_STOCKS', 'COMP_RT', 'STYLE_RT'], dtype='object')"
     },
     "metadata": {},
     "execution_count": 11
    }
   ],
   "source": [
    "my_df = df_list[0]\n",
    "my_df.columns.levels[0]"
   ]
  },
  {
   "cell_type": "code",
   "execution_count": null,
   "metadata": {},
   "outputs": [],
   "source": []
  },
  {
   "cell_type": "code",
   "execution_count": null,
   "metadata": {},
   "outputs": [],
   "source": [
    "df_list = []\n",
    "for i in range(len(phase)) :\n",
    "    if i == len(phase) -1 :\n",
    "        df2 = df[phase[i]:]\n",
    "        \n",
    "    else:\n",
    "        df2 = df[phase[i]:phase[i+1]]\n",
    "        df2 = df2.drop(phase[i+1])\n",
    "    # 종목코드 열로 옮기는 작업\n",
    "    #  - 키 추가\n",
    "    df2.set_index(['ISU_SRT_CD'], append=True, inplace=True) #index 추가시 append param 사용함\n",
    "    # - 열로 옮김\n",
    "    df2 = df2.unstack(level=1)\n",
    "    # - 종목코드를 열 index level 0로\n",
    "    df2.columns = df2.columns.swaplevel(0,1)\n",
    "    # - 열 index level 1(종목별 항목들)을 sorting\n",
    "    df2.sort_index(axis = 1, level=0, inplace=True)\n",
    "    df_list.append(df2)\n",
    "        \n"
   ]
  },
  {
   "cell_type": "code",
   "execution_count": null,
   "metadata": {},
   "outputs": [],
   "source": [
    "df_list[1].index[0]"
   ]
  },
  {
   "cell_type": "code",
   "execution_count": null,
   "metadata": {},
   "outputs": [],
   "source": [
    "scen_file = 'esg_시나리오.xlsx'\n",
    "df3 = pd.read_excel(scen_file,dtype='unicode')"
   ]
  },
  {
   "cell_type": "code",
   "execution_count": null,
   "metadata": {},
   "outputs": [],
   "source": [
    "#df3.set_index('정기개편일', inplace=True)\n",
    "df3 = df3['정기개편일']"
   ]
  },
  {
   "cell_type": "code",
   "execution_count": null,
   "metadata": {},
   "outputs": [],
   "source": [
    "df3.drop_duplicates(inplace=True)"
   ]
  },
  {
   "cell_type": "code",
   "execution_count": null,
   "metadata": {},
   "outputs": [],
   "source": [
    "price = mydf['CLOSE_PRICE'].astype('int64')"
   ]
  },
  {
   "cell_type": "code",
   "execution_count": null,
   "metadata": {},
   "outputs": [],
   "source": [
    "mydf = df_list[0][\"20161004\" : \"20161230\"]\n",
    "mydf"
   ]
  },
  {
   "cell_type": "code",
   "execution_count": null,
   "metadata": {},
   "outputs": [],
   "source": [
    "shrs = mydf['IDX_LISTED_STOCKS'].astype('int64')"
   ]
  },
  {
   "cell_type": "code",
   "execution_count": null,
   "metadata": {},
   "outputs": [],
   "source": [
    "iif = mydf['STYLE_RT'].astype(float)"
   ]
  },
  {
   "cell_type": "code",
   "execution_count": null,
   "metadata": {},
   "outputs": [],
   "source": [
    "portion = price*shrs*iif"
   ]
  },
  {
   "cell_type": "code",
   "execution_count": null,
   "metadata": {},
   "outputs": [],
   "source": [
    "sum = portion.sum(axis=1,skipna = True)"
   ]
  },
  {
   "cell_type": "code",
   "execution_count": null,
   "metadata": {},
   "outputs": [],
   "source": [
    "portion.to_excel('portion.xlsx')"
   ]
  },
  {
   "cell_type": "code",
   "execution_count": null,
   "metadata": {},
   "outputs": [],
   "source": [
    "cap = price.mul(shrs)"
   ]
  },
  {
   "cell_type": "code",
   "execution_count": null,
   "metadata": {},
   "outputs": [],
   "source": [
    "portion = cap.mul(iif)"
   ]
  },
  {
   "cell_type": "code",
   "execution_count": null,
   "metadata": {},
   "outputs": [],
   "source": [
    "portion.to_excel('portion.xlsx')"
   ]
  },
  {
   "cell_type": "code",
   "execution_count": null,
   "metadata": {},
   "outputs": [],
   "source": []
  }
 ],
 "metadata": {
  "kernelspec": {
   "display_name": "Python 3",
   "language": "python",
   "name": "python3"
  },
  "language_info": {
   "codemirror_mode": {
    "name": "ipython",
    "version": 3
   },
   "file_extension": ".py",
   "mimetype": "text/x-python",
   "name": "python",
   "nbconvert_exporter": "python",
   "pygments_lexer": "ipython3",
   "version": "3.7.0-final"
  }
 },
 "nbformat": 4,
 "nbformat_minor": 2
}