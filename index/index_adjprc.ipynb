{
 "cells": [
  {
   "cell_type": "code",
   "execution_count": 2,
   "metadata": {},
   "outputs": [
    {
     "output_type": "stream",
     "name": "stdout",
     "text": "[START] converting 작업을 시작합니다.\n** FILE CREATED : convert_by_val_ESG지수 백데이터_20200520.xlsx\n[END] converting 작업을 완료하였습니다.\n"
    }
   ],
   "source": [
    "import sys\n",
    "import pandas as pd\n",
    "import numpy as np\n",
    "\n",
    "# INPUT FILE\n",
    "scen_file = 'esg_시나리오_20200518.xlsx'\n",
    "in_file = 'ESG지수 백데이터_20200520.xlsx'\n",
    "out_file_1 = 'convert_by_isu_'+ in_file   # xlsx로만 저장되네...\n",
    "out_file_2 = 'convert_by_val_'+ in_file   # xlsx로만 저장되네...\n",
    "\n",
    "# 시나리오에서 리벨런싱 시작일날짜를 가져온다.\n",
    "df = pd.read_excel(scen_file,dtype='unicode')\n",
    "df = df['정기개편일']\n",
    "df.drop_duplicates(inplace=True)\n",
    "phase = df.values.tolist()\n",
    "\n",
    "print ('[START] converting 작업을 시작합니다.')\n",
    "\n",
    "# input file 을 읽는다\n",
    "#df = pd.read_csv(in_file, sep=',',dtype='unicode', parse_dates=True)\n",
    "df = pd.read_excel(in_file, sep=',',dtype='unicode')\n",
    "\n",
    "#숫자로 봐야하는 컬럼의 dtype을 변경한다\n",
    "cols=df.columns.drop(['DATE','CODE'])\n",
    "df[cols] = df[cols].apply(pd.to_numeric, errors='coerce')\n",
    "\n",
    "# 필요없는 컬럼 지우기\n",
    "#df.drop([df.columns[1],df.columns[2],df.columns[4],df.columns[7],df.columns[10],df.columns[11]],axis=1,inplace=True)\n",
    "\n",
    "#\n",
    "df.set_index('DATE', inplace=True)\n",
    "df.sort_index(axis = 0, level=0, inplace=True, ascending=True)\n",
    "\n",
    "# START - 2. 세부정보별 종목정보 만들기. MULTI INDEX level 0 => 세부정보, level 1 => 종목\n",
    "# 각 개편일별로 끊어서 list에 추가함\n",
    "df_list = []\n",
    "for i in range(len(phase)) :\n",
    "    if i == len(phase) -1 :\n",
    "        df2 = df[phase[i]:]\n",
    "        \n",
    "    else:\n",
    "        df2 = df[phase[i]:phase[i+1]]\n",
    "        df2 = df2.drop(phase[i+1])\n",
    "    # TABLE RESHAPE - 종목코드 열로 옮기는 작업\n",
    "    #  - 키 추가\n",
    "    df2.set_index(['CODE'], append=True, inplace=True) #index 추가시 append param 사용함\n",
    "    # - 열로 옮김\n",
    "    df2 = df2.unstack(level=1)\n",
    "    df2['BAS_PRC'].apply(pd.to_numeric, errors='ignore')\n",
    "    df_list.append(df2)\n",
    "# 엑셀파일저장\n",
    "with pd.ExcelWriter(out_file_2) as writer:\n",
    "    for item in df_list :\n",
    "        item.to_excel(writer, sheet_name=item.index[0])\n",
    "        \n",
    "print ('** FILE CREATED : ' + out_file_2)\n",
    "# END - 2. 세부정보별 종목정보 만들기. MULTI INDEX level 0 => 세부정보, level 1 => 종목\n",
    "\n",
    "#완료\n",
    "print ('[END] converting 작업을 완료하였습니다.')\n",
    "\n"
   ]
  },
  {
   "cell_type": "code",
   "execution_count": 3,
   "metadata": {},
   "outputs": [
    {
     "output_type": "stream",
     "name": "stdout",
     "text": "수정주가를 이용한 지수생성 완료!\noutput : simple_index.xlsx\n"
    }
   ],
   "source": [
    "rebal_prc = 100000000 # 1억부터 시작\n",
    "\n",
    "simple_index = []\n",
    "contrb_list = []\n",
    "cnt = 0\n",
    "for my_df in df_list :\n",
    "    adj_prc = my_df['ADJ_PRC']\n",
    "    comp_rt = my_df['COMP_RT']\n",
    "\n",
    "    #구간의 첫데이터에서 조목별 비중을 가져오고, 직전 구간의 마지막 가격합을 곱한다.\n",
    "    invst_init = my_df.iloc[:1]\n",
    "    \n",
    "    #비중검증 (합이 1인가)\n",
    "    #sum=invst_init['COMP_RT'].sum(axis = 1)\n",
    "    #print(sum)\n",
    "\n",
    "    invst_amt = invst_init['COMP_RT'].mul(rebal_prc)\n",
    "    #첫산출일은 당일의 수정주가(종가)로 나누어 투자주식수를 구하고,\n",
    "    #다음 리벨런싱부터는 전일의 수정주가로 나누어 투자주식수를 구한다.\n",
    "    if cnt == 0 :\n",
    "        invst_shrs = invst_amt.div(invst_init['ADJ_PRC'])\n",
    "    else :\n",
    "        invst_shrs = invst_amt.div(invst_init['PREV_ADJ_PRC'])\n",
    "\n",
    "    # 위에서 구한 주식수를 수정주가 df에 곱하여, 일별 평가금액을 구한다\n",
    "    cur_amt = pd.DataFrame(adj_prc.values * invst_shrs.values, index=adj_prc.index, columns=adj_prc.columns)\n",
    "\n",
    "    # 기여도 구하기\n",
    "    # 기간내 마지막일의 종가 기준 평가금액과 시작일의 투자금액간의 종목별 수익률을 구한 후,\n",
    "    # 종목별 투자비중을 곱한다.\n",
    "    # - 종목별투자금액 : invst_amt\n",
    "    # - 종가기준평가금액 : cur_amt.iloc[-1:]  => 마지막값가져오기!\n",
    "    # - 종목별 투자비중 : invst_init['COMP_RT']\n",
    "    contribution = pd.DataFrame(cur_amt.iloc[-1:].values / invst_amt.values - 1, index=invst_amt.index,columns=invst_amt.columns)\n",
    "    contribution = contribution.mul(invst_init['COMP_RT'])\n",
    "\n",
    "    # 컬럼에 있는 종목코드를 행으로 내린다...어렵네...\n",
    "    contribution = contribution.reset_index().melt(id_vars=['DATE']).set_index(['DATE'])\n",
    "    contribution.sort_values(by=['value'], inplace=True)\n",
    "    contrb_list.append(contribution)\n",
    "    # 종목의 평가금액을 합한다.\n",
    "    total_amt = cur_amt.sum(axis = 1)\n",
    "\n",
    "    # index 리스트에 해당 리밸런싱구간의 데이터를 추가\n",
    "    simple_index.append(total_amt)\n",
    "\n",
    "    # 다음리밸런싱일에 사용할 투자금액을 가져온다. 해당 구간의 마지막 row 값\n",
    "    rebal_prc = total_amt.iloc[-1:].values[0] \n",
    "    cnt = cnt + 1\n",
    "\n",
    "result = pd.concat(simple_index)\n",
    "\n",
    "result.to_excel(\"simple_index.xlsx\")\n",
    "\n",
    "result2 = pd.concat(contrb_list)\n",
    "result2.to_excel(\"contributioin.xlsx\")\n",
    "\n",
    "print(\"수정주가를 이용한 지수생성 완료!\")\n",
    "print(\"output : \" + \"simple_index.xlsx\")\n"
   ]
  },
  {
   "cell_type": "code",
   "execution_count": 41,
   "metadata": {},
   "outputs": [],
   "source": [
    "# full number 보이게 하기\n",
    "pd.options.display.float_format = \"{:.2f}\".format\n",
    "\n",
    "# 비교시가총액 검증\n",
    "df1 = df_list[12]\n",
    "df1.columns\n",
    "#BAS_PRC', 'ADJ_PRC', '대비', 'PREV_ADJ_PRC', 'CUR_PRC', 'COMP_RT', 'STYLE_RT', 'SHRS', 'CHG_SHRS'\n",
    "MKTCAP = df1['CUR_PRC'].mul(df1['STYLE_RT']).mul(df1['SHRS'])\n",
    "#MKTCAP['20180627':'20180628'].to_excel(\"mktcap_test.xlsx\")\n",
    "MKTCAPSUM = MKTCAP.sum(axis=1)"
   ]
  },
  {
   "cell_type": "code",
   "execution_count": 45,
   "metadata": {},
   "outputs": [],
   "source": [
    "df1['ADJ_PRC']['20191017':'20191018'].to_excel(\"adjprc_20191018.xlsx\")\n",
    "#MKTCAP['20191017':'20191018'].to_excel(\"mktcap_20191018.xlsx\")"
   ]
  },
  {
   "cell_type": "code",
   "execution_count": 46,
   "metadata": {},
   "outputs": [
    {
     "output_type": "execute_result",
     "data": {
      "text/plain": "          ADJ_PRC CUR_PRC      SHRS      CHG_SHRS\nCODE       036420  036420    036420        036420\nDATE                                             \n20191001 35650.00   35650  14406898             0\n20191002 33250.00   33250  14406898             0\n20191004 32250.00   32250  14406898             0\n20191007 33050.00   33050  14406898             0\n20191008 33200.00   33200  14406898             0\n20191010 32450.00   32450  14406898             0\n20191011 34000.00   34000  14406898             0\n20191014 35550.00   35550  14406898             0\n20191015 34450.00   34450  14406898             0\n20191016 34550.00   34550  14406898             0\n20191017 34000.00   34000  14406898             0\n20191018 34400.00   34400  14406898  489834532000\n20191021 34300.00   34300  14406898             0\n20191022 34100.00   34100  14406898             0\n20191023 33350.00   33350  14406898             0\n20191024 34450.00   34450  14406898             0\n20191025 34200.00   34200  14406898             0\n20191028 34100.00   34100  14406898             0\n20191029 36500.00   36500  14406898             0\n20191030 37400.00   37400  14406898             0\n20191031 37200.00   37200  14406898             0\n20191101 38000.00   38000  14406898             0\n20191104 37950.00   37950  14406898             0\n20191105 37600.00   37600  14406898             0\n20191106 38450.00   38450  14406898             0\n20191107 37300.00   37300  14406898             0\n20191108 37200.00   37200  14406898             0\n20191111 36400.00   36400  14406898             0\n20191112 36950.00   36950  14406898             0\n20191113 36800.00   36800  14406898             0\n...           ...     ...       ...           ...\n20191118 38150.00   38150  14406898             0\n20191119 39250.00   39250  14406898             0\n20191120 39350.00   39350  14406898             0\n20191121 39800.00   39800  14406898             0\n20191122 39750.00   39750  14406898             0\n20191125 39400.00   39400  14406898             0\n20191126 40000.00   40000  14406898             0\n20191127 38900.00   38900  14406898             0\n20191128 38050.00   38050  14406898             0\n20191129 39000.00   39000  14406898             0\n20191202 39900.00   39900  14406898             0\n20191203 40000.00   40000  14406898             0\n20191204 38850.00   38850  14406898             0\n20191205 38750.00   38750  14406898             0\n20191206 38500.00   38500  14406898             0\n20191209 37650.00   37650  14406898             0\n20191210 38000.00   38000  14406898             0\n20191211 37450.00   37450  14406898             0\n20191212 37950.00   37950  14406898             0\n20191213 39150.00   39150  14406898             0\n20191216 38700.00   38700  14406898             0\n20191217 39050.00   39050  14406898             0\n20191218 38600.00   38600  14406898             0\n20191219 38800.00   38800  14406898             0\n20191220 38250.00   38250  14406898             0\n20191223 37500.00   37500  14406898             0\n20191224 36650.00   36650  14406898             0\n20191226 36600.00   36600  14406898             0\n20191227 37800.00   37800  14406898             0\n20191230 38550.00   38550  14406898             0\n\n[62 rows x 4 columns]",
      "text/html": "<div>\n<style scoped>\n    .dataframe tbody tr th:only-of-type {\n        vertical-align: middle;\n    }\n\n    .dataframe tbody tr th {\n        vertical-align: top;\n    }\n\n    .dataframe thead tr th {\n        text-align: left;\n    }\n\n    .dataframe thead tr:last-of-type th {\n        text-align: right;\n    }\n</style>\n<table border=\"1\" class=\"dataframe\">\n  <thead>\n    <tr>\n      <th></th>\n      <th>ADJ_PRC</th>\n      <th>CUR_PRC</th>\n      <th>SHRS</th>\n      <th>CHG_SHRS</th>\n    </tr>\n    <tr>\n      <th>CODE</th>\n      <th>036420</th>\n      <th>036420</th>\n      <th>036420</th>\n      <th>036420</th>\n    </tr>\n    <tr>\n      <th>DATE</th>\n      <th></th>\n      <th></th>\n      <th></th>\n      <th></th>\n    </tr>\n  </thead>\n  <tbody>\n    <tr>\n      <th>20191001</th>\n      <td>35650.00</td>\n      <td>35650</td>\n      <td>14406898</td>\n      <td>0</td>\n    </tr>\n    <tr>\n      <th>20191002</th>\n      <td>33250.00</td>\n      <td>33250</td>\n      <td>14406898</td>\n      <td>0</td>\n    </tr>\n    <tr>\n      <th>20191004</th>\n      <td>32250.00</td>\n      <td>32250</td>\n      <td>14406898</td>\n      <td>0</td>\n    </tr>\n    <tr>\n      <th>20191007</th>\n      <td>33050.00</td>\n      <td>33050</td>\n      <td>14406898</td>\n      <td>0</td>\n    </tr>\n    <tr>\n      <th>20191008</th>\n      <td>33200.00</td>\n      <td>33200</td>\n      <td>14406898</td>\n      <td>0</td>\n    </tr>\n    <tr>\n      <th>20191010</th>\n      <td>32450.00</td>\n      <td>32450</td>\n      <td>14406898</td>\n      <td>0</td>\n    </tr>\n    <tr>\n      <th>20191011</th>\n      <td>34000.00</td>\n      <td>34000</td>\n      <td>14406898</td>\n      <td>0</td>\n    </tr>\n    <tr>\n      <th>20191014</th>\n      <td>35550.00</td>\n      <td>35550</td>\n      <td>14406898</td>\n      <td>0</td>\n    </tr>\n    <tr>\n      <th>20191015</th>\n      <td>34450.00</td>\n      <td>34450</td>\n      <td>14406898</td>\n      <td>0</td>\n    </tr>\n    <tr>\n      <th>20191016</th>\n      <td>34550.00</td>\n      <td>34550</td>\n      <td>14406898</td>\n      <td>0</td>\n    </tr>\n    <tr>\n      <th>20191017</th>\n      <td>34000.00</td>\n      <td>34000</td>\n      <td>14406898</td>\n      <td>0</td>\n    </tr>\n    <tr>\n      <th>20191018</th>\n      <td>34400.00</td>\n      <td>34400</td>\n      <td>14406898</td>\n      <td>489834532000</td>\n    </tr>\n    <tr>\n      <th>20191021</th>\n      <td>34300.00</td>\n      <td>34300</td>\n      <td>14406898</td>\n      <td>0</td>\n    </tr>\n    <tr>\n      <th>20191022</th>\n      <td>34100.00</td>\n      <td>34100</td>\n      <td>14406898</td>\n      <td>0</td>\n    </tr>\n    <tr>\n      <th>20191023</th>\n      <td>33350.00</td>\n      <td>33350</td>\n      <td>14406898</td>\n      <td>0</td>\n    </tr>\n    <tr>\n      <th>20191024</th>\n      <td>34450.00</td>\n      <td>34450</td>\n      <td>14406898</td>\n      <td>0</td>\n    </tr>\n    <tr>\n      <th>20191025</th>\n      <td>34200.00</td>\n      <td>34200</td>\n      <td>14406898</td>\n      <td>0</td>\n    </tr>\n    <tr>\n      <th>20191028</th>\n      <td>34100.00</td>\n      <td>34100</td>\n      <td>14406898</td>\n      <td>0</td>\n    </tr>\n    <tr>\n      <th>20191029</th>\n      <td>36500.00</td>\n      <td>36500</td>\n      <td>14406898</td>\n      <td>0</td>\n    </tr>\n    <tr>\n      <th>20191030</th>\n      <td>37400.00</td>\n      <td>37400</td>\n      <td>14406898</td>\n      <td>0</td>\n    </tr>\n    <tr>\n      <th>20191031</th>\n      <td>37200.00</td>\n      <td>37200</td>\n      <td>14406898</td>\n      <td>0</td>\n    </tr>\n    <tr>\n      <th>20191101</th>\n      <td>38000.00</td>\n      <td>38000</td>\n      <td>14406898</td>\n      <td>0</td>\n    </tr>\n    <tr>\n      <th>20191104</th>\n      <td>37950.00</td>\n      <td>37950</td>\n      <td>14406898</td>\n      <td>0</td>\n    </tr>\n    <tr>\n      <th>20191105</th>\n      <td>37600.00</td>\n      <td>37600</td>\n      <td>14406898</td>\n      <td>0</td>\n    </tr>\n    <tr>\n      <th>20191106</th>\n      <td>38450.00</td>\n      <td>38450</td>\n      <td>14406898</td>\n      <td>0</td>\n    </tr>\n    <tr>\n      <th>20191107</th>\n      <td>37300.00</td>\n      <td>37300</td>\n      <td>14406898</td>\n      <td>0</td>\n    </tr>\n    <tr>\n      <th>20191108</th>\n      <td>37200.00</td>\n      <td>37200</td>\n      <td>14406898</td>\n      <td>0</td>\n    </tr>\n    <tr>\n      <th>20191111</th>\n      <td>36400.00</td>\n      <td>36400</td>\n      <td>14406898</td>\n      <td>0</td>\n    </tr>\n    <tr>\n      <th>20191112</th>\n      <td>36950.00</td>\n      <td>36950</td>\n      <td>14406898</td>\n      <td>0</td>\n    </tr>\n    <tr>\n      <th>20191113</th>\n      <td>36800.00</td>\n      <td>36800</td>\n      <td>14406898</td>\n      <td>0</td>\n    </tr>\n    <tr>\n      <th>...</th>\n      <td>...</td>\n      <td>...</td>\n      <td>...</td>\n      <td>...</td>\n    </tr>\n    <tr>\n      <th>20191118</th>\n      <td>38150.00</td>\n      <td>38150</td>\n      <td>14406898</td>\n      <td>0</td>\n    </tr>\n    <tr>\n      <th>20191119</th>\n      <td>39250.00</td>\n      <td>39250</td>\n      <td>14406898</td>\n      <td>0</td>\n    </tr>\n    <tr>\n      <th>20191120</th>\n      <td>39350.00</td>\n      <td>39350</td>\n      <td>14406898</td>\n      <td>0</td>\n    </tr>\n    <tr>\n      <th>20191121</th>\n      <td>39800.00</td>\n      <td>39800</td>\n      <td>14406898</td>\n      <td>0</td>\n    </tr>\n    <tr>\n      <th>20191122</th>\n      <td>39750.00</td>\n      <td>39750</td>\n      <td>14406898</td>\n      <td>0</td>\n    </tr>\n    <tr>\n      <th>20191125</th>\n      <td>39400.00</td>\n      <td>39400</td>\n      <td>14406898</td>\n      <td>0</td>\n    </tr>\n    <tr>\n      <th>20191126</th>\n      <td>40000.00</td>\n      <td>40000</td>\n      <td>14406898</td>\n      <td>0</td>\n    </tr>\n    <tr>\n      <th>20191127</th>\n      <td>38900.00</td>\n      <td>38900</td>\n      <td>14406898</td>\n      <td>0</td>\n    </tr>\n    <tr>\n      <th>20191128</th>\n      <td>38050.00</td>\n      <td>38050</td>\n      <td>14406898</td>\n      <td>0</td>\n    </tr>\n    <tr>\n      <th>20191129</th>\n      <td>39000.00</td>\n      <td>39000</td>\n      <td>14406898</td>\n      <td>0</td>\n    </tr>\n    <tr>\n      <th>20191202</th>\n      <td>39900.00</td>\n      <td>39900</td>\n      <td>14406898</td>\n      <td>0</td>\n    </tr>\n    <tr>\n      <th>20191203</th>\n      <td>40000.00</td>\n      <td>40000</td>\n      <td>14406898</td>\n      <td>0</td>\n    </tr>\n    <tr>\n      <th>20191204</th>\n      <td>38850.00</td>\n      <td>38850</td>\n      <td>14406898</td>\n      <td>0</td>\n    </tr>\n    <tr>\n      <th>20191205</th>\n      <td>38750.00</td>\n      <td>38750</td>\n      <td>14406898</td>\n      <td>0</td>\n    </tr>\n    <tr>\n      <th>20191206</th>\n      <td>38500.00</td>\n      <td>38500</td>\n      <td>14406898</td>\n      <td>0</td>\n    </tr>\n    <tr>\n      <th>20191209</th>\n      <td>37650.00</td>\n      <td>37650</td>\n      <td>14406898</td>\n      <td>0</td>\n    </tr>\n    <tr>\n      <th>20191210</th>\n      <td>38000.00</td>\n      <td>38000</td>\n      <td>14406898</td>\n      <td>0</td>\n    </tr>\n    <tr>\n      <th>20191211</th>\n      <td>37450.00</td>\n      <td>37450</td>\n      <td>14406898</td>\n      <td>0</td>\n    </tr>\n    <tr>\n      <th>20191212</th>\n      <td>37950.00</td>\n      <td>37950</td>\n      <td>14406898</td>\n      <td>0</td>\n    </tr>\n    <tr>\n      <th>20191213</th>\n      <td>39150.00</td>\n      <td>39150</td>\n      <td>14406898</td>\n      <td>0</td>\n    </tr>\n    <tr>\n      <th>20191216</th>\n      <td>38700.00</td>\n      <td>38700</td>\n      <td>14406898</td>\n      <td>0</td>\n    </tr>\n    <tr>\n      <th>20191217</th>\n      <td>39050.00</td>\n      <td>39050</td>\n      <td>14406898</td>\n      <td>0</td>\n    </tr>\n    <tr>\n      <th>20191218</th>\n      <td>38600.00</td>\n      <td>38600</td>\n      <td>14406898</td>\n      <td>0</td>\n    </tr>\n    <tr>\n      <th>20191219</th>\n      <td>38800.00</td>\n      <td>38800</td>\n      <td>14406898</td>\n      <td>0</td>\n    </tr>\n    <tr>\n      <th>20191220</th>\n      <td>38250.00</td>\n      <td>38250</td>\n      <td>14406898</td>\n      <td>0</td>\n    </tr>\n    <tr>\n      <th>20191223</th>\n      <td>37500.00</td>\n      <td>37500</td>\n      <td>14406898</td>\n      <td>0</td>\n    </tr>\n    <tr>\n      <th>20191224</th>\n      <td>36650.00</td>\n      <td>36650</td>\n      <td>14406898</td>\n      <td>0</td>\n    </tr>\n    <tr>\n      <th>20191226</th>\n      <td>36600.00</td>\n      <td>36600</td>\n      <td>14406898</td>\n      <td>0</td>\n    </tr>\n    <tr>\n      <th>20191227</th>\n      <td>37800.00</td>\n      <td>37800</td>\n      <td>14406898</td>\n      <td>0</td>\n    </tr>\n    <tr>\n      <th>20191230</th>\n      <td>38550.00</td>\n      <td>38550</td>\n      <td>14406898</td>\n      <td>0</td>\n    </tr>\n  </tbody>\n</table>\n<p>62 rows × 4 columns</p>\n</div>"
     },
     "metadata": {},
     "execution_count": 46
    }
   ],
   "source": [
    "# ['BAS_PRC', 'ADJ_PRC', 'DIFF', 'PREV_ADJ_PRC', 'CUR_PRC', 'COMP_RT', 'STYLE_RT', 'SHRS', 'CHG_SHRS']\n",
    "idx = pd.IndexSlice\n",
    "F = df1.loc[:,idx[['ADJ_PRC','CUR_PRC','SHRS','CHG_SHRS'], ['036420'] ]]\n",
    "F\n"
   ]
  },
  {
   "cell_type": "code",
   "execution_count": 35,
   "metadata": {},
   "outputs": [],
   "source": [
    "a = 33099640 - 29176998\n",
    "b = -218827485000\n",
    "c = 472678361000\n",
    "d = 29176998 - 33099640"
   ]
  },
  {
   "cell_type": "code",
   "execution_count": 40,
   "metadata": {},
   "outputs": [
    {
     "output_type": "execute_result",
     "data": {
      "text/plain": "4376549.7"
     },
     "metadata": {},
     "execution_count": 40
    }
   ],
   "source": [
    "m = 29176998 * 0.15\n",
    "m"
   ]
  },
  {
   "cell_type": "code",
   "execution_count": 121,
   "metadata": {},
   "outputs": [],
   "source": [
    "#contrb_list[14]\n",
    "rslttt = pd.concat(contrb_list)"
   ]
  },
  {
   "cell_type": "code",
   "execution_count": 75,
   "metadata": {},
   "outputs": [],
   "source": [
    "# stack 사용. series로 리턴이 와서 자신없다...\n",
    "test=contribution.stack()\n",
    "test.sort_values(inplace=True)\n",
    "test.to_excel(\"consss.xlsx\")"
   ]
  },
  {
   "cell_type": "code",
   "execution_count": 92,
   "metadata": {},
   "outputs": [
    {
     "output_type": "execute_result",
     "data": {
      "text/plain": "                        value\nDATE     CODE                \n20200102 009540 -1.863822e-02\n         096770 -1.815375e-02\n         034730 -1.508136e-02\n         002790 -1.441998e-02\n         000240 -1.322038e-02\n         267250 -1.213586e-02\n         006840 -1.116705e-02\n         060980 -1.112723e-02\n         006260 -1.060752e-02\n         078930 -9.863252e-03\n         003550 -8.149404e-03\n         057050 -7.638691e-03\n         000640 -7.314301e-03\n         004800 -6.452930e-03\n         001040 -5.656326e-03\n         192400 -5.303292e-03\n         001800 -5.254567e-03\n         008930 -5.130091e-03\n         000070 -4.946312e-03\n         096760 -3.855748e-03\n         012630 -3.281863e-03\n         027410 -2.976085e-03\n         015860 -2.624740e-03\n         036420 -2.076149e-03\n         004990 -1.206045e-03\n         030530 -1.165433e-03\n         101060 -7.302792e-04\n         024720 -3.761201e-04\n         063080 -1.435406e-04\n         084110 -8.604659e-05\n         003300 -2.546564e-18\n         002020  1.063817e-04\n         006120  9.289606e-04\n         000140  2.191501e-03\n         001630  3.736462e-03\n         180640  3.988353e-03\n         003090  5.324808e-03\n         017810  6.951320e-03",
      "text/html": "<div>\n<style scoped>\n    .dataframe tbody tr th:only-of-type {\n        vertical-align: middle;\n    }\n\n    .dataframe tbody tr th {\n        vertical-align: top;\n    }\n\n    .dataframe thead th {\n        text-align: right;\n    }\n</style>\n<table border=\"1\" class=\"dataframe\">\n  <thead>\n    <tr style=\"text-align: right;\">\n      <th></th>\n      <th></th>\n      <th>value</th>\n    </tr>\n    <tr>\n      <th>DATE</th>\n      <th>CODE</th>\n      <th></th>\n    </tr>\n  </thead>\n  <tbody>\n    <tr>\n      <th rowspan=\"38\" valign=\"top\">20200102</th>\n      <th>009540</th>\n      <td>-1.863822e-02</td>\n    </tr>\n    <tr>\n      <th>096770</th>\n      <td>-1.815375e-02</td>\n    </tr>\n    <tr>\n      <th>034730</th>\n      <td>-1.508136e-02</td>\n    </tr>\n    <tr>\n      <th>002790</th>\n      <td>-1.441998e-02</td>\n    </tr>\n    <tr>\n      <th>000240</th>\n      <td>-1.322038e-02</td>\n    </tr>\n    <tr>\n      <th>267250</th>\n      <td>-1.213586e-02</td>\n    </tr>\n    <tr>\n      <th>006840</th>\n      <td>-1.116705e-02</td>\n    </tr>\n    <tr>\n      <th>060980</th>\n      <td>-1.112723e-02</td>\n    </tr>\n    <tr>\n      <th>006260</th>\n      <td>-1.060752e-02</td>\n    </tr>\n    <tr>\n      <th>078930</th>\n      <td>-9.863252e-03</td>\n    </tr>\n    <tr>\n      <th>003550</th>\n      <td>-8.149404e-03</td>\n    </tr>\n    <tr>\n      <th>057050</th>\n      <td>-7.638691e-03</td>\n    </tr>\n    <tr>\n      <th>000640</th>\n      <td>-7.314301e-03</td>\n    </tr>\n    <tr>\n      <th>004800</th>\n      <td>-6.452930e-03</td>\n    </tr>\n    <tr>\n      <th>001040</th>\n      <td>-5.656326e-03</td>\n    </tr>\n    <tr>\n      <th>192400</th>\n      <td>-5.303292e-03</td>\n    </tr>\n    <tr>\n      <th>001800</th>\n      <td>-5.254567e-03</td>\n    </tr>\n    <tr>\n      <th>008930</th>\n      <td>-5.130091e-03</td>\n    </tr>\n    <tr>\n      <th>000070</th>\n      <td>-4.946312e-03</td>\n    </tr>\n    <tr>\n      <th>096760</th>\n      <td>-3.855748e-03</td>\n    </tr>\n    <tr>\n      <th>012630</th>\n      <td>-3.281863e-03</td>\n    </tr>\n    <tr>\n      <th>027410</th>\n      <td>-2.976085e-03</td>\n    </tr>\n    <tr>\n      <th>015860</th>\n      <td>-2.624740e-03</td>\n    </tr>\n    <tr>\n      <th>036420</th>\n      <td>-2.076149e-03</td>\n    </tr>\n    <tr>\n      <th>004990</th>\n      <td>-1.206045e-03</td>\n    </tr>\n    <tr>\n      <th>030530</th>\n      <td>-1.165433e-03</td>\n    </tr>\n    <tr>\n      <th>101060</th>\n      <td>-7.302792e-04</td>\n    </tr>\n    <tr>\n      <th>024720</th>\n      <td>-3.761201e-04</td>\n    </tr>\n    <tr>\n      <th>063080</th>\n      <td>-1.435406e-04</td>\n    </tr>\n    <tr>\n      <th>084110</th>\n      <td>-8.604659e-05</td>\n    </tr>\n    <tr>\n      <th>003300</th>\n      <td>-2.546564e-18</td>\n    </tr>\n    <tr>\n      <th>002020</th>\n      <td>1.063817e-04</td>\n    </tr>\n    <tr>\n      <th>006120</th>\n      <td>9.289606e-04</td>\n    </tr>\n    <tr>\n      <th>000140</th>\n      <td>2.191501e-03</td>\n    </tr>\n    <tr>\n      <th>001630</th>\n      <td>3.736462e-03</td>\n    </tr>\n    <tr>\n      <th>180640</th>\n      <td>3.988353e-03</td>\n    </tr>\n    <tr>\n      <th>003090</th>\n      <td>5.324808e-03</td>\n    </tr>\n    <tr>\n      <th>017810</th>\n      <td>6.951320e-03</td>\n    </tr>\n  </tbody>\n</table>\n</div>"
     },
     "metadata": {},
     "execution_count": 92
    }
   ],
   "source": [
    "#df.reset_index().melt(id_vars=['Letters']).set_index(['Letters', 'variable'])\n",
    "test = contribution.reset_index().melt(id_vars=['DATE']).set_index(['DATE','CODE'])\n",
    "test.sort_values(by=['value'])"
   ]
  },
  {
   "cell_type": "code",
   "execution_count": 86,
   "metadata": {},
   "outputs": [
    {
     "output_type": "error",
     "ename": "PermissionError",
     "evalue": "[Errno 13] Permission denied: 'end.xlsx'",
     "traceback": [
      "\u001b[1;31m---------------------------------------------------------------------------\u001b[0m",
      "\u001b[1;31mPermissionError\u001b[0m                           Traceback (most recent call last)",
      "\u001b[1;32m<ipython-input-86-a08be808dba2>\u001b[0m in \u001b[0;36m<module>\u001b[1;34m()\u001b[0m\n\u001b[0;32m      1\u001b[0m \u001b[0mstart\u001b[0m \u001b[1;33m=\u001b[0m \u001b[0mcur_amt\u001b[0m\u001b[1;33m.\u001b[0m\u001b[0miloc\u001b[0m\u001b[1;33m[\u001b[0m\u001b[1;33m:\u001b[0m\u001b[1;36m1\u001b[0m\u001b[1;33m]\u001b[0m\u001b[1;33m\u001b[0m\u001b[0m\n\u001b[0;32m      2\u001b[0m \u001b[0mend\u001b[0m \u001b[1;33m=\u001b[0m \u001b[0mcur_amt\u001b[0m\u001b[1;33m.\u001b[0m\u001b[0miloc\u001b[0m\u001b[1;33m[\u001b[0m\u001b[1;33m-\u001b[0m\u001b[1;36m1\u001b[0m\u001b[1;33m:\u001b[0m\u001b[1;33m]\u001b[0m\u001b[1;33m\u001b[0m\u001b[0m\n\u001b[1;32m----> 3\u001b[1;33m \u001b[0mend\u001b[0m\u001b[1;33m.\u001b[0m\u001b[0mto_excel\u001b[0m\u001b[1;33m(\u001b[0m\u001b[1;34m\"end.xlsx\"\u001b[0m\u001b[1;33m)\u001b[0m\u001b[1;33m\u001b[0m\u001b[0m\n\u001b[0m\u001b[0;32m      4\u001b[0m \u001b[0minvst_amt\u001b[0m\u001b[1;33m.\u001b[0m\u001b[0mto_excel\u001b[0m\u001b[1;33m(\u001b[0m\u001b[1;34m\"start.xlsx\"\u001b[0m\u001b[1;33m)\u001b[0m\u001b[1;33m\u001b[0m\u001b[0m\n",
      "\u001b[1;32m~\\Anaconda3\\lib\\site-packages\\pandas\\core\\frame.py\u001b[0m in \u001b[0;36mto_excel\u001b[1;34m(self, excel_writer, sheet_name, na_rep, float_format, columns, header, index, index_label, startrow, startcol, engine, merge_cells, encoding, inf_rep, verbose, freeze_panes)\u001b[0m\n\u001b[0;32m   1764\u001b[0m         formatter.write(excel_writer, sheet_name=sheet_name, startrow=startrow,\n\u001b[0;32m   1765\u001b[0m                         \u001b[0mstartcol\u001b[0m\u001b[1;33m=\u001b[0m\u001b[0mstartcol\u001b[0m\u001b[1;33m,\u001b[0m \u001b[0mfreeze_panes\u001b[0m\u001b[1;33m=\u001b[0m\u001b[0mfreeze_panes\u001b[0m\u001b[1;33m,\u001b[0m\u001b[1;33m\u001b[0m\u001b[0m\n\u001b[1;32m-> 1766\u001b[1;33m                         engine=engine)\n\u001b[0m\u001b[0;32m   1767\u001b[0m \u001b[1;33m\u001b[0m\u001b[0m\n\u001b[0;32m   1768\u001b[0m     def to_stata(self, fname, convert_dates=None, write_index=True,\n",
      "\u001b[1;32m~\\Anaconda3\\lib\\site-packages\\pandas\\io\\formats\\excel.py\u001b[0m in \u001b[0;36mwrite\u001b[1;34m(self, writer, sheet_name, startrow, startcol, freeze_panes, engine)\u001b[0m\n\u001b[0;32m    652\u001b[0m                            freeze_panes=freeze_panes)\n\u001b[0;32m    653\u001b[0m         \u001b[1;32mif\u001b[0m \u001b[0mneed_save\u001b[0m\u001b[1;33m:\u001b[0m\u001b[1;33m\u001b[0m\u001b[0m\n\u001b[1;32m--> 654\u001b[1;33m             \u001b[0mwriter\u001b[0m\u001b[1;33m.\u001b[0m\u001b[0msave\u001b[0m\u001b[1;33m(\u001b[0m\u001b[1;33m)\u001b[0m\u001b[1;33m\u001b[0m\u001b[0m\n\u001b[0m",
      "\u001b[1;32m~\\Anaconda3\\lib\\site-packages\\pandas\\io\\excel.py\u001b[0m in \u001b[0;36msave\u001b[1;34m(self)\u001b[0m\n\u001b[0;32m   1730\u001b[0m         \"\"\"\n\u001b[0;32m   1731\u001b[0m \u001b[1;33m\u001b[0m\u001b[0m\n\u001b[1;32m-> 1732\u001b[1;33m         \u001b[1;32mreturn\u001b[0m \u001b[0mself\u001b[0m\u001b[1;33m.\u001b[0m\u001b[0mbook\u001b[0m\u001b[1;33m.\u001b[0m\u001b[0mclose\u001b[0m\u001b[1;33m(\u001b[0m\u001b[1;33m)\u001b[0m\u001b[1;33m\u001b[0m\u001b[0m\n\u001b[0m\u001b[0;32m   1733\u001b[0m \u001b[1;33m\u001b[0m\u001b[0m\n\u001b[0;32m   1734\u001b[0m     def write_cells(self, cells, sheet_name=None, startrow=0, startcol=0,\n",
      "\u001b[1;32m~\\Anaconda3\\lib\\site-packages\\xlsxwriter\\workbook.py\u001b[0m in \u001b[0;36mclose\u001b[1;34m(self)\u001b[0m\n\u001b[0;32m    304\u001b[0m         \u001b[1;32mif\u001b[0m \u001b[1;32mnot\u001b[0m \u001b[0mself\u001b[0m\u001b[1;33m.\u001b[0m\u001b[0mfileclosed\u001b[0m\u001b[1;33m:\u001b[0m\u001b[1;33m\u001b[0m\u001b[0m\n\u001b[0;32m    305\u001b[0m             \u001b[0mself\u001b[0m\u001b[1;33m.\u001b[0m\u001b[0mfileclosed\u001b[0m \u001b[1;33m=\u001b[0m \u001b[1;36m1\u001b[0m\u001b[1;33m\u001b[0m\u001b[0m\n\u001b[1;32m--> 306\u001b[1;33m             \u001b[0mself\u001b[0m\u001b[1;33m.\u001b[0m\u001b[0m_store_workbook\u001b[0m\u001b[1;33m(\u001b[0m\u001b[1;33m)\u001b[0m\u001b[1;33m\u001b[0m\u001b[0m\n\u001b[0m\u001b[0;32m    307\u001b[0m \u001b[1;33m\u001b[0m\u001b[0m\n\u001b[0;32m    308\u001b[0m     \u001b[1;32mdef\u001b[0m \u001b[0mset_size\u001b[0m\u001b[1;33m(\u001b[0m\u001b[0mself\u001b[0m\u001b[1;33m,\u001b[0m \u001b[0mwidth\u001b[0m\u001b[1;33m,\u001b[0m \u001b[0mheight\u001b[0m\u001b[1;33m)\u001b[0m\u001b[1;33m:\u001b[0m\u001b[1;33m\u001b[0m\u001b[0m\n",
      "\u001b[1;32m~\\Anaconda3\\lib\\site-packages\\xlsxwriter\\workbook.py\u001b[0m in \u001b[0;36m_store_workbook\u001b[1;34m(self)\u001b[0m\n\u001b[0;32m    653\u001b[0m \u001b[1;33m\u001b[0m\u001b[0m\n\u001b[0;32m    654\u001b[0m         xlsx_file = ZipFile(self.filename, \"w\", compression=ZIP_DEFLATED,\n\u001b[1;32m--> 655\u001b[1;33m                             allowZip64=self.allow_zip64)\n\u001b[0m\u001b[0;32m    656\u001b[0m \u001b[1;33m\u001b[0m\u001b[0m\n\u001b[0;32m    657\u001b[0m         \u001b[1;31m# Add XML sub-files to the Zip file with their Excel filename.\u001b[0m\u001b[1;33m\u001b[0m\u001b[1;33m\u001b[0m\u001b[0m\n",
      "\u001b[1;32m~\\Anaconda3\\lib\\zipfile.py\u001b[0m in \u001b[0;36m__init__\u001b[1;34m(self, file, mode, compression, allowZip64, compresslevel)\u001b[0m\n\u001b[0;32m   1180\u001b[0m             \u001b[1;32mwhile\u001b[0m \u001b[1;32mTrue\u001b[0m\u001b[1;33m:\u001b[0m\u001b[1;33m\u001b[0m\u001b[0m\n\u001b[0;32m   1181\u001b[0m                 \u001b[1;32mtry\u001b[0m\u001b[1;33m:\u001b[0m\u001b[1;33m\u001b[0m\u001b[0m\n\u001b[1;32m-> 1182\u001b[1;33m                     \u001b[0mself\u001b[0m\u001b[1;33m.\u001b[0m\u001b[0mfp\u001b[0m \u001b[1;33m=\u001b[0m \u001b[0mio\u001b[0m\u001b[1;33m.\u001b[0m\u001b[0mopen\u001b[0m\u001b[1;33m(\u001b[0m\u001b[0mfile\u001b[0m\u001b[1;33m,\u001b[0m \u001b[0mfilemode\u001b[0m\u001b[1;33m)\u001b[0m\u001b[1;33m\u001b[0m\u001b[0m\n\u001b[0m\u001b[0;32m   1183\u001b[0m                 \u001b[1;32mexcept\u001b[0m \u001b[0mOSError\u001b[0m\u001b[1;33m:\u001b[0m\u001b[1;33m\u001b[0m\u001b[0m\n\u001b[0;32m   1184\u001b[0m                     \u001b[1;32mif\u001b[0m \u001b[0mfilemode\u001b[0m \u001b[1;32min\u001b[0m \u001b[0mmodeDict\u001b[0m\u001b[1;33m:\u001b[0m\u001b[1;33m\u001b[0m\u001b[0m\n",
      "\u001b[1;31mPermissionError\u001b[0m: [Errno 13] Permission denied: 'end.xlsx'"
     ]
    }
   ],
   "source": [
    "start = cur_amt.iloc[:1]\n",
    "end = cur_amt.iloc[-1:]\n",
    "end.to_excel(\"end.xlsx\")\n",
    "invst_amt.to_excel(\"start.xlsx\")"
   ]
  },
  {
   "cell_type": "code",
   "execution_count": 35,
   "metadata": {},
   "outputs": [],
   "source": [
    "contribution = pd.DataFrame(end.values / invst_amt.values - 1, index=start.index,columns=start.columns)\n",
    "contribution.to_excel(\"contribution.xlsx\")\n",
    "invst_init['COMP_RT'].to_excel(\"comp_rt.xlsx\")"
   ]
  },
  {
   "cell_type": "code",
   "execution_count": 36,
   "metadata": {},
   "outputs": [],
   "source": [
    "result = contribution.mul(invst_init['COMP_RT'])\n",
    "result.to_excel(\"result.xlsx\")"
   ]
  },
  {
   "cell_type": "code",
   "execution_count": 30,
   "metadata": {},
   "outputs": [
    {
     "output_type": "execute_result",
     "data": {
      "text/plain": "CODE        000070    000140    000240    000640    001040    001630  \\\nDATE                                                                   \n20200102  0.018883  0.017532  0.040505  0.037802  0.031046  0.013478   \n\nCODE        001800    002020    002790    003090    ...       060980  \\\nDATE                                                ...                \n20200102  0.028343  0.002667  0.043208  0.014829    ...     0.029694   \n\nCODE        063080  078930    084110    096760    096770    101060    180640  \\\nDATE                                                                           \n20200102  0.001316  0.0351  0.006721  0.020235  0.049964  0.008073  0.004018   \n\nCODE        192400    267250  \nDATE                          \n20200102  0.033748  0.041856  \n\n[1 rows x 38 columns]",
      "text/html": "<div>\n<style scoped>\n    .dataframe tbody tr th:only-of-type {\n        vertical-align: middle;\n    }\n\n    .dataframe tbody tr th {\n        vertical-align: top;\n    }\n\n    .dataframe thead th {\n        text-align: right;\n    }\n</style>\n<table border=\"1\" class=\"dataframe\">\n  <thead>\n    <tr style=\"text-align: right;\">\n      <th>CODE</th>\n      <th>000070</th>\n      <th>000140</th>\n      <th>000240</th>\n      <th>000640</th>\n      <th>001040</th>\n      <th>001630</th>\n      <th>001800</th>\n      <th>002020</th>\n      <th>002790</th>\n      <th>003090</th>\n      <th>...</th>\n      <th>060980</th>\n      <th>063080</th>\n      <th>078930</th>\n      <th>084110</th>\n      <th>096760</th>\n      <th>096770</th>\n      <th>101060</th>\n      <th>180640</th>\n      <th>192400</th>\n      <th>267250</th>\n    </tr>\n    <tr>\n      <th>DATE</th>\n      <th></th>\n      <th></th>\n      <th></th>\n      <th></th>\n      <th></th>\n      <th></th>\n      <th></th>\n      <th></th>\n      <th></th>\n      <th></th>\n      <th></th>\n      <th></th>\n      <th></th>\n      <th></th>\n      <th></th>\n      <th></th>\n      <th></th>\n      <th></th>\n      <th></th>\n      <th></th>\n      <th></th>\n    </tr>\n  </thead>\n  <tbody>\n    <tr>\n      <th>20200102</th>\n      <td>0.018883</td>\n      <td>0.017532</td>\n      <td>0.040505</td>\n      <td>0.037802</td>\n      <td>0.031046</td>\n      <td>0.013478</td>\n      <td>0.028343</td>\n      <td>0.002667</td>\n      <td>0.043208</td>\n      <td>0.014829</td>\n      <td>...</td>\n      <td>0.029694</td>\n      <td>0.001316</td>\n      <td>0.0351</td>\n      <td>0.006721</td>\n      <td>0.020235</td>\n      <td>0.049964</td>\n      <td>0.008073</td>\n      <td>0.004018</td>\n      <td>0.033748</td>\n      <td>0.041856</td>\n    </tr>\n  </tbody>\n</table>\n<p>1 rows × 38 columns</p>\n</div>"
     },
     "metadata": {},
     "execution_count": 30
    }
   ],
   "source": [
    "invst_init['COMP_RT']"
   ]
  },
  {
   "cell_type": "code",
   "execution_count": 156,
   "metadata": {},
   "outputs": [],
   "source": [
    "#phase 4\n",
    "rebal_prc = total_amt.iloc[-1:].values[0] \n",
    "prev_prc = df_list[3]['PREV_ADJ_PRC']\n",
    "adj_prc = df_list[3]['ADJ_PRC']\n",
    "comp_rt = df_list[3]['COMP_RT']\n",
    "\n",
    "#구간의 첫데이터 접근\n",
    "invst_init = df_list[3].iloc[:1]\n",
    "invst_amt = invst_init['COMP_RT'].mul(rebal_prc)\n",
    "invst_shrs = invst_amt.div(invst_init['PREV_ADJ_PRC'])\n",
    "cur_amt = pd.DataFrame(adj_prc.values * invst_shrs.values, index=adj_prc.index, columns=adj_prc.columns)\n",
    "total_amt = cur_amt.sum(axis = 1)\n",
    "\n",
    "total_amt.to_excel(\"ok4.xlsx\")"
   ]
  },
  {
   "cell_type": "markdown",
   "metadata": {},
   "source": [
    "참고. SHAPE이 다른 Dataframe 끼리 곱하는법"
   ]
  },
  {
   "cell_type": "code",
   "execution_count": 65,
   "metadata": {},
   "outputs": [],
   "source": [
    "# 추천 1. cur_amt라는 dataframe으로 옮긴다.\n",
    "cur_amt[:] = adj_prc.values * invst_shrs.values\n",
    "\n",
    "# 다른방법 \n",
    "cur_amt2 =pd.DataFrame(adj_prc.values * invst_shrs.values, columns=adj_prc.columns)\n",
    "\n",
    "# 다른방법: 그냥 values끼리 곱하면, nparray로 리턴값을 준다\n",
    "cur_nparray = adj_prc.values * invst_shrs.values"
   ]
  },
  {
   "cell_type": "code",
   "execution_count": 55,
   "metadata": {},
   "outputs": [
    {
     "output_type": "execute_result",
     "data": {
      "text/plain": "CODE         000070     000140     000240     000640     001040     001940  \\\nDATE                                                                         \n20161004  2956810.6  2535991.1  4008859.4  3482835.0  3798449.6  3588039.9   \n20161005        NaN        NaN        NaN        NaN        NaN        NaN   \n20161006        NaN        NaN        NaN        NaN        NaN        NaN   \n20161007        NaN        NaN        NaN        NaN        NaN        NaN   \n20161010        NaN        NaN        NaN        NaN        NaN        NaN   \n\nCODE         002020    002030    002250     002790    ...       077360  \\\nDATE                                                  ...                \n20161004  1063122.9  431893.7  326688.8  4324474.0    ...     116279.1   \n20161005        NaN       NaN       NaN        NaN    ...          NaN   \n20161006        NaN       NaN       NaN        NaN    ...          NaN   \n20161007        NaN       NaN       NaN        NaN    ...          NaN   \n20161010        NaN       NaN       NaN        NaN    ...          NaN   \n\nCODE         078930    084690     096760     096770     101060     102260  \\\nDATE                                                                        \n20161004  4114064.2  642303.4  2220376.5  4534883.7  1904761.9  2851605.8   \n20161005        NaN       NaN        NaN        NaN        NaN        NaN   \n20161006        NaN       NaN        NaN        NaN        NaN        NaN   \n20161007        NaN       NaN        NaN        NaN        NaN        NaN   \n20161010        NaN       NaN        NaN        NaN        NaN        NaN   \n\nCODE        108790     126560    180640  \nDATE                                     \n20161004  747508.3  1589147.3  537098.6  \n20161005       NaN        NaN       NaN  \n20161006       NaN        NaN       NaN  \n20161007       NaN        NaN       NaN  \n20161010       NaN        NaN       NaN  \n\n[5 rows x 43 columns]",
      "text/html": "<div>\n<style scoped>\n    .dataframe tbody tr th:only-of-type {\n        vertical-align: middle;\n    }\n\n    .dataframe tbody tr th {\n        vertical-align: top;\n    }\n\n    .dataframe thead th {\n        text-align: right;\n    }\n</style>\n<table border=\"1\" class=\"dataframe\">\n  <thead>\n    <tr style=\"text-align: right;\">\n      <th>CODE</th>\n      <th>000070</th>\n      <th>000140</th>\n      <th>000240</th>\n      <th>000640</th>\n      <th>001040</th>\n      <th>001940</th>\n      <th>002020</th>\n      <th>002030</th>\n      <th>002250</th>\n      <th>002790</th>\n      <th>...</th>\n      <th>077360</th>\n      <th>078930</th>\n      <th>084690</th>\n      <th>096760</th>\n      <th>096770</th>\n      <th>101060</th>\n      <th>102260</th>\n      <th>108790</th>\n      <th>126560</th>\n      <th>180640</th>\n    </tr>\n    <tr>\n      <th>DATE</th>\n      <th></th>\n      <th></th>\n      <th></th>\n      <th></th>\n      <th></th>\n      <th></th>\n      <th></th>\n      <th></th>\n      <th></th>\n      <th></th>\n      <th></th>\n      <th></th>\n      <th></th>\n      <th></th>\n      <th></th>\n      <th></th>\n      <th></th>\n      <th></th>\n      <th></th>\n      <th></th>\n      <th></th>\n    </tr>\n  </thead>\n  <tbody>\n    <tr>\n      <th>20161004</th>\n      <td>2956810.6</td>\n      <td>2535991.1</td>\n      <td>4008859.4</td>\n      <td>3482835.0</td>\n      <td>3798449.6</td>\n      <td>3588039.9</td>\n      <td>1063122.9</td>\n      <td>431893.7</td>\n      <td>326688.8</td>\n      <td>4324474.0</td>\n      <td>...</td>\n      <td>116279.1</td>\n      <td>4114064.2</td>\n      <td>642303.4</td>\n      <td>2220376.5</td>\n      <td>4534883.7</td>\n      <td>1904761.9</td>\n      <td>2851605.8</td>\n      <td>747508.3</td>\n      <td>1589147.3</td>\n      <td>537098.6</td>\n    </tr>\n    <tr>\n      <th>20161005</th>\n      <td>NaN</td>\n      <td>NaN</td>\n      <td>NaN</td>\n      <td>NaN</td>\n      <td>NaN</td>\n      <td>NaN</td>\n      <td>NaN</td>\n      <td>NaN</td>\n      <td>NaN</td>\n      <td>NaN</td>\n      <td>...</td>\n      <td>NaN</td>\n      <td>NaN</td>\n      <td>NaN</td>\n      <td>NaN</td>\n      <td>NaN</td>\n      <td>NaN</td>\n      <td>NaN</td>\n      <td>NaN</td>\n      <td>NaN</td>\n      <td>NaN</td>\n    </tr>\n    <tr>\n      <th>20161006</th>\n      <td>NaN</td>\n      <td>NaN</td>\n      <td>NaN</td>\n      <td>NaN</td>\n      <td>NaN</td>\n      <td>NaN</td>\n      <td>NaN</td>\n      <td>NaN</td>\n      <td>NaN</td>\n      <td>NaN</td>\n      <td>...</td>\n      <td>NaN</td>\n      <td>NaN</td>\n      <td>NaN</td>\n      <td>NaN</td>\n      <td>NaN</td>\n      <td>NaN</td>\n      <td>NaN</td>\n      <td>NaN</td>\n      <td>NaN</td>\n      <td>NaN</td>\n    </tr>\n    <tr>\n      <th>20161007</th>\n      <td>NaN</td>\n      <td>NaN</td>\n      <td>NaN</td>\n      <td>NaN</td>\n      <td>NaN</td>\n      <td>NaN</td>\n      <td>NaN</td>\n      <td>NaN</td>\n      <td>NaN</td>\n      <td>NaN</td>\n      <td>...</td>\n      <td>NaN</td>\n      <td>NaN</td>\n      <td>NaN</td>\n      <td>NaN</td>\n      <td>NaN</td>\n      <td>NaN</td>\n      <td>NaN</td>\n      <td>NaN</td>\n      <td>NaN</td>\n      <td>NaN</td>\n    </tr>\n    <tr>\n      <th>20161010</th>\n      <td>NaN</td>\n      <td>NaN</td>\n      <td>NaN</td>\n      <td>NaN</td>\n      <td>NaN</td>\n      <td>NaN</td>\n      <td>NaN</td>\n      <td>NaN</td>\n      <td>NaN</td>\n      <td>NaN</td>\n      <td>...</td>\n      <td>NaN</td>\n      <td>NaN</td>\n      <td>NaN</td>\n      <td>NaN</td>\n      <td>NaN</td>\n      <td>NaN</td>\n      <td>NaN</td>\n      <td>NaN</td>\n      <td>NaN</td>\n      <td>NaN</td>\n    </tr>\n  </tbody>\n</table>\n<p>5 rows × 43 columns</p>\n</div>"
     },
     "metadata": {},
     "execution_count": 55
    }
   ],
   "source": [
    "cur_amt.head(5)"
   ]
  },
  {
   "cell_type": "code",
   "execution_count": null,
   "metadata": {},
   "outputs": [],
   "source": []
  }
 ],
 "metadata": {
  "language_info": {
   "codemirror_mode": {
    "name": "ipython",
    "version": 3
   },
   "file_extension": ".py",
   "mimetype": "text/x-python",
   "name": "python",
   "nbconvert_exporter": "python",
   "pygments_lexer": "ipython3",
   "version": "3.7.0-final"
  },
  "orig_nbformat": 2,
  "kernelspec": {
   "name": "python3",
   "display_name": "Python 3"
  }
 },
 "nbformat": 4,
 "nbformat_minor": 2
}